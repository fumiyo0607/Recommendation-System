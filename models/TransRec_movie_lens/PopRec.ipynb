{
 "cells": [
  {
   "cell_type": "code",
   "execution_count": 1,
   "metadata": {},
   "outputs": [],
   "source": [
    "import numpy as np\n",
    "import random\n",
    "from collections import defaultdict\n",
    "from sklearn import metrics"
   ]
  },
  {
   "cell_type": "code",
   "execution_count": 2,
   "metadata": {},
   "outputs": [],
   "source": [
    "dataset_name = 'MovieLens100k'\n",
    "dataset = np.load('../../data/'+dataset_name+'/'+ dataset_name+'Partitioned.npy')\n",
    "[user_train,user_validation,user_test, usernum,itemnum] = dataset"
   ]
  },
  {
   "cell_type": "code",
   "execution_count": 3,
   "metadata": {},
   "outputs": [],
   "source": [
    "def PopModel(user_train):\n",
    "    item_train = {}\n",
    "    for user in user_train:\n",
    "        for itemid in user_train[user]:\n",
    "            if itemid in item_train:\n",
    "                item_train[itemid] += 1\n",
    "            else:\n",
    "                item_train[itemid] = 1\n",
    "    return item_train\n",
    "# most_pop = sorted(item_train,key=lambda x:item_train[x])[-1]"
   ]
  },
  {
   "cell_type": "code",
   "execution_count": 4,
   "metadata": {},
   "outputs": [],
   "source": [
    "def PopPredict(item_train, query_item):\n",
    "    return item_train[query_item] if query_item in item_train else 0\n"
   ]
  },
  {
   "cell_type": "code",
   "execution_count": 6,
   "metadata": {},
   "outputs": [],
   "source": [
    "def AUC(dataset, item_train):\n",
    "    [user_train,user_validation,user_test, usernum,itemnum] = dataset\n",
    "    auc_total = 0\n",
    "    testnum = 0\n",
    "    # max_itemid = max(item_train.keys())\n",
    "    for user in user_test:\n",
    "        if len(user_test[user])==0:\n",
    "            continue\n",
    "        testnum += 1\n",
    "        \n",
    "        test_item = user_test[user][1]\n",
    "        test_score = PopPredict(item_train, test_item)\n",
    "        count = 0\n",
    "        neg_num = 0\n",
    "        for ind in range(500):\n",
    "            itemid = random.randint(0,itemnum)\n",
    "            if itemid not in user_train[user] and itemid not in user_test[user]:\n",
    "                neg_num += 1\n",
    "                neg_score = PopPredict(item_train, itemid)\n",
    "                if neg_score < test_score:\n",
    "                    count += 1\n",
    "                elif neg_score == test_score:\n",
    "                    count += 0.5\n",
    "                else:\n",
    "                    count += 0\n",
    "    \n",
    "        auc_total += count*1.0/neg_num\n",
    "        \n",
    "    #    neg_dict = {x:item_train[x] for x in item_train}\n",
    "    #    for itemid in user_train[user]:\n",
    "    #        if itemid in neg_dict:\n",
    "    #            del neg_dict[itemid]\n",
    "    #    for itemid in user_test[user]:\n",
    "    #        if itemid in neg_dict:\n",
    "    #            del neg_dict[itemid]\n",
    "    #\n",
    "    #    neg_list = neg_dict.values()\n",
    "    #    lable_list = [0 for x in neg_list] + [1]\n",
    "    #    test_item = user_test[user][1]\n",
    "    #    test_score = item_train[test_item] if test_item in item_train else 0\n",
    "    #    score_list = neg_list + [test_score]\n",
    "    #    fpr, tpr, thresholds = metrics.roc_curve(lable_list, score_list, pos_label=1)\n",
    "    #    auc_total += metrics.auc(fpr, tpr)\n",
    "        \n",
    "        if user%1000 == 0:\n",
    "            print (user/1000)\n",
    "    \n",
    "    auc_ave = auc_total/testnum\n",
    "    print (\"AUC: \", auc_ave)"
   ]
  },
  {
   "cell_type": "code",
   "execution_count": 7,
   "metadata": {},
   "outputs": [
    {
     "name": "stdout",
     "output_type": "stream",
     "text": [
      "0.0\n",
      "AUC:  0.8080159790464401\n"
     ]
    }
   ],
   "source": [
    "item_train = PopModel(user_train)\n",
    "AUC(dataset, item_train)"
   ]
  }
 ],
 "metadata": {
  "kernelspec": {
   "display_name": "Python 3",
   "language": "python",
   "name": "python3"
  },
  "language_info": {
   "codemirror_mode": {
    "name": "ipython",
    "version": 3
   },
   "file_extension": ".py",
   "mimetype": "text/x-python",
   "name": "python",
   "nbconvert_exporter": "python",
   "pygments_lexer": "ipython3",
   "version": "3.7.3"
  }
 },
 "nbformat": 4,
 "nbformat_minor": 2
}
