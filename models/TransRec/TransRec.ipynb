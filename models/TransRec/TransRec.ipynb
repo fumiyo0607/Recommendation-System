{
 "cells": [
  {
   "cell_type": "code",
   "execution_count": null,
   "metadata": {},
   "outputs": [],
   "source": [
    "import dataset\n",
    "import numpy as np\n",
    "import pandas as pd\n",
    "import random\n",
    "from math import exp\n",
    "from math import log\n",
    "import matplotlib.pyplot as plt"
   ]
  },
  {
   "cell_type": "code",
   "execution_count": null,
   "metadata": {},
   "outputs": [],
   "source": [
    "dataset = dataset.Dataset()\n",
    "user_train, user_validation, user_test, usernum, itemnum = dataset.fetch_shaping_dataset()"
   ]
  },
  {
   "cell_type": "code",
   "execution_count": null,
   "metadata": {},
   "outputs": [],
   "source": [
    "itemnum"
   ]
  },
  {
   "cell_type": "code",
   "execution_count": null,
   "metadata": {},
   "outputs": [],
   "source": [
    "user_train"
   ]
  },
  {
   "cell_type": "code",
   "execution_count": null,
   "metadata": {},
   "outputs": [],
   "source": [
    "items = list(user_train.values())"
   ]
  },
  {
   "cell_type": "code",
   "execution_count": null,
   "metadata": {},
   "outputs": [],
   "source": [
    "max(items)"
   ]
  },
  {
   "cell_type": "code",
   "execution_count": null,
   "metadata": {},
   "outputs": [],
   "source": []
  },
  {
   "cell_type": "code",
   "execution_count": null,
   "metadata": {},
   "outputs": [],
   "source": [
    "item_successor = [[] for it in range(itemnum)]"
   ]
  },
  {
   "cell_type": "code",
   "execution_count": null,
   "metadata": {},
   "outputs": [],
   "source": [
    "for user in user_train:\n",
    "    for i in range(len(user_train[user])-1):\n",
    "        pre = user_train[user][i]\n",
    "        suc = user_train[user][i+1]\n",
    "        item_successor[pre].append(suc)"
   ]
  },
  {
   "cell_type": "code",
   "execution_count": null,
   "metadata": {},
   "outputs": [],
   "source": [
    "num_relation = sum([len(item_successor[item]) for item in range(itemnum)])"
   ]
  },
  {
   "cell_type": "code",
   "execution_count": null,
   "metadata": {},
   "outputs": [],
   "source": [
    "num_relation"
   ]
  },
  {
   "cell_type": "code",
   "execution_count": null,
   "metadata": {},
   "outputs": [],
   "source": [
    "user_train"
   ]
  },
  {
   "cell_type": "code",
   "execution_count": null,
   "metadata": {},
   "outputs": [],
   "source": [
    "def sigmoid(x):\n",
    "    return 1.0 / (1 + exp(-x))"
   ]
  },
  {
   "cell_type": "code",
   "execution_count": null,
   "metadata": {},
   "outputs": [],
   "source": [
    "def TransPredict(user, pre, cur):\n",
    "    return - beta[cur] - np.sum(np.square(H[pre,:] + r + R[user,:] - H[cur,:]))"
   ]
  },
  {
   "cell_type": "code",
   "execution_count": null,
   "metadata": {},
   "outputs": [],
   "source": [
    "def findNegSucc(pos_item):\n",
    "    item_list = list(user_train.values())\n",
    "    while 1:\n",
    "        neg_item = random.choice(item_list)\n",
    "        if neg_item != pos_item:\n",
    "            return neg_item"
   ]
  },
  {
   "cell_type": "code",
   "execution_count": null,
   "metadata": {},
   "outputs": [],
   "source": [
    "# def findUser():\n",
    "#     user_list = list(user_train.keys())\n",
    "#     user_list\n",
    "#     while 1:\n",
    "#         user = random.choice(user_list)\n",
    "#         if len(user_train[user]) > 1:\n",
    "#             return user\n",
    "\n",
    "def findNegSucc(pos_item):\n",
    "    while 1:\n",
    "        neg_item = random.randint(0,itemnum-1)\n",
    "        if neg_item != pos_item:\n",
    "            return neg_item"
   ]
  },
  {
   "cell_type": "code",
   "execution_count": null,
   "metadata": {},
   "outputs": [],
   "source": [
    "def AUC():\n",
    "    auc_train = 0\n",
    "    auc_valid = 0\n",
    "    auc_test = 0\n",
    "    testnum = 0     # event num per user in AUC testing\n",
    "    # max_itemid = max(item_train.keys())\n",
    "    for user in user_test:\n",
    "        if len(user_train[user])<2 or len(user_test[user])==0:\n",
    "            continue\n",
    "        testnum += 1\n",
    "\n",
    "        train_pre_item = user_train[user][-2]\n",
    "        train_item = user_train[user][-1]\n",
    "        train_score = TransPredict(user, train_pre_item, train_item)          \n",
    "        \n",
    "        valid_pre_item = user_validation[user][0]\n",
    "        valid_item = user_validation[user][1]\n",
    "        valid_score = TransPredict(user, valid_pre_item, valid_item)\n",
    "        \n",
    "        test_pre_item = user_test[user][0]\n",
    "        test_item = user_test[user][1]\n",
    "        test_score = TransPredict(user, test_pre_item, test_item)\n",
    "        \n",
    "        \n",
    "        count_train, count_valid, count_test = 0, 0, 0\n",
    "        neg_num = 0\n",
    "        for ind in range(100):\n",
    "            itemid = random.randint(0,itemnum-1)\n",
    "            if itemid not in user_train[user] and itemid not in user_test[user]:\n",
    "                neg_num += 1\n",
    "                \n",
    "                neg_score = TransPredict(user, train_pre_item, itemid)\n",
    "                if neg_score < train_score:\n",
    "                    count_train += 1\n",
    "                elif neg_score == valid_score:\n",
    "                    count_train += 0.5\n",
    "                else:\n",
    "                    count_train += 0                \n",
    "                \n",
    "                neg_score = TransPredict(user, valid_pre_item, itemid)\n",
    "                if neg_score < valid_score:\n",
    "                    count_valid += 1\n",
    "                elif neg_score == valid_score:\n",
    "                    count_valid += 0.5\n",
    "                else:\n",
    "                    count_valid += 0\n",
    "                \n",
    "                neg_score = TransPredict(user, test_pre_item, itemid)\n",
    "                if neg_score < test_score:\n",
    "                    count_test += 1\n",
    "                elif neg_score == test_score:\n",
    "                    count_test += 0.5\n",
    "                else:\n",
    "                    count_test += 0\n",
    "        \n",
    "        auc_train += count_train*1.0 / neg_num\n",
    "        auc_valid += count_valid*1.0 / neg_num\n",
    "        auc_test += count_test*1.0 / neg_num\n",
    "    \n",
    "    auc_train = auc_train/testnum\n",
    "    auc_valid = auc_valid/testnum\n",
    "    auc_test = auc_test/testnum\n",
    "    print(\"training AUC: \", auc_train)\n",
    "    print(\"validation AUC: \", auc_valid)\n",
    "    print(\"testing AUC: \", auc_test)\n",
    "    return auc_train, auc_valid, auc_test"
   ]
  },
  {
   "cell_type": "code",
   "execution_count": null,
   "metadata": {},
   "outputs": [],
   "source": [
    "def normalization(it):\n",
    "    dist = np.sqrt(np.sum(np.square(H[it,:])))\n",
    "    if dist > 1:\n",
    "        H[it,:] = H[it,:] / dist"
   ]
  },
  {
   "cell_type": "code",
   "execution_count": null,
   "metadata": {},
   "outputs": [],
   "source": [
    "lam = 0.05\n",
    "bias_lam = 0.01\n",
    "reg_lam = 0.1\n",
    "K = 10\n",
    "learn_rate = 0.05\n",
    "max_iter = 500\n",
    "r = np.zeros(K)\n",
    "R = np.random.rand(usernum, K)/1 - 0.5\n",
    "H = np.random.rand(itemnum, K)/1 - 0.5\n",
    "beta = np.zeros(itemnum)\n",
    "\n",
    "auc_rec_train = []\n",
    "auc_rec_valid = []\n",
    "auc_rec_test = []"
   ]
  },
  {
   "cell_type": "code",
   "execution_count": null,
   "metadata": {},
   "outputs": [],
   "source": [
    "itemnum"
   ]
  },
  {
   "cell_type": "code",
   "execution_count": null,
   "metadata": {},
   "outputs": [],
   "source": []
  },
  {
   "cell_type": "code",
   "execution_count": null,
   "metadata": {},
   "outputs": [],
   "source": [
    "for it in range(max_iter):\n",
    "    objective = 0\n",
    "    regularization = 0\n",
    "#    dg = np.zeros((itemnum, K))\n",
    "#    de = np.zeros((K, itemnum))\n",
    "    \n",
    "    for ind in range(num_relation):\n",
    "        u = findUser()\n",
    "        print(u)\n",
    "        position = random.randint(0,len(user_train[u])-2)\n",
    "        p = user_train[u][position]        # previous item\n",
    "        i = user_train[u][position + 1]    # positive item\n",
    "        j = findNegSucc(i)                 # negative item\n",
    "        \n",
    "        print('p = ' + str(p))\n",
    "        print('i = '  + str(i) )\n",
    "        print('j = ' + str(j))\n",
    "        \n",
    "        d1 = H[p,:] + r + R[u,:] - H[i,:]\n",
    "        d2 = H[p,:] + r + R[u,:] - H[j,:]\n",
    "        \n",
    "        z = sigmoid(-beta[i] + beta[j] - np.sum(np.square(d1)) + np.sum(np.square(d2)))\n",
    "#        dg[u,:] += (1-z)*(eta[:,i]-eta[:,j])\n",
    "#        de[:,i] += (1-z)*(gam[u,:])\n",
    "#        de[:,j] += (1-z)*(-gam[u,:])\n",
    "        beta[i] += learn_rate*(-(1-z) - 2*bias_lam*beta[i])\n",
    "        beta[j] += learn_rate*((1-z) - 2*bias_lam*beta[j])\n",
    "        H[p,:] += learn_rate*((1-z)*2*(d2-d1) - 2*lam*H[p,:])\n",
    "        H[i,:] += learn_rate*((1-z)*2*(d1) - 2*lam*H[i,:])\n",
    "        H[j,:] += learn_rate*((1-z)*2*(-d2) - 2*lam*H[j,:])\n",
    "        r += learn_rate*((1-z)*2*(d2-d1) - 2*lam*r)\n",
    "        R[u] = learn_rate*((1-z)*2*(d2-d1) - 2*reg_lam*R[u])\n",
    "        \n",
    "        normalization(p)\n",
    "        normalization(i)\n",
    "        normalization(j)\n",
    "        \n",
    "        objective += log(z)\n",
    "    \n",
    "#    dg -= lam*gam\n",
    "#    de -= lam*eta\n",
    "#    gam += learn_rate*dg\n",
    "#    eta += learn_rate*de \n",
    "    \n",
    "    regularization = objective - lam*np.sum(np.square(H)) - \\\n",
    "                                 lam*np.sum(np.square(r)) - \\\n",
    "                                 reg_lam*np.sum(np.square(R)) - \\\n",
    "                                 bias_lam*np.sum(np.square(beta))\n",
    "                                                 \n",
    "    if (it+1)%5 == 0:\n",
    "        print('iteration: ' + str(it+1) + '\\t' + str(regularization) \\\n",
    "                                 + '\\t' + str(objective))\n",
    "    if (it+1)%10 == 0:\n",
    "        auc = AUC()\n",
    "        auc_rec_train.append(auc[0])\n",
    "        auc_rec_valid.append(auc[1])\n",
    "        auc_rec_test.append(auc[2])\n",
    "\n",
    "plt.figure()\n",
    "plt.plot(auc_rec_train)\n",
    "plt.figure()\n",
    "plt.plot(auc_rec_valid)\n",
    "plt.figure()\n",
    "plt.plot(auc_rec_test)\n",
    "\n",
    "np.save(\"itemVector.npy\",H)\n",
    "np.save(\"userVector.npy\",R)\n"
   ]
  },
  {
   "cell_type": "code",
   "execution_count": null,
   "metadata": {},
   "outputs": [],
   "source": []
  }
 ],
 "metadata": {
  "kernelspec": {
   "display_name": "Python 3",
   "language": "python",
   "name": "python3"
  },
  "language_info": {
   "codemirror_mode": {
    "name": "ipython",
    "version": 3
   },
   "file_extension": ".py",
   "mimetype": "text/x-python",
   "name": "python",
   "nbconvert_exporter": "python",
   "pygments_lexer": "ipython3",
   "version": "3.7.3"
  }
 },
 "nbformat": 4,
 "nbformat_minor": 2
}
